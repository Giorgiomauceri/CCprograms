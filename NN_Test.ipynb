{
 "cells": [
  {
   "cell_type": "code",
   "execution_count": 1,
   "id": "bf74fbdb-b689-4981-a8f8-6f24c2779907",
   "metadata": {},
   "outputs": [],
   "source": [
    "import pandas as pd\n",
    "import matplotlib.pyplot as plt\n",
    "import torch\n",
    "import awkward as ak\n",
    "import numpy as np\n",
    "import uproot\n",
    "import sklearn as sk"
   ]
  },
  {
   "cell_type": "code",
   "execution_count": 52,
   "id": "c1e829bf-aa70-418e-98ec-336db2bebfd8",
   "metadata": {},
   "outputs": [],
   "source": [
    "class TrackAnalysisModel(torch.nn.Module):\n",
    "    def __init__(self):\n",
    "        super().__init__()\n",
    "        self.layer_1 = torch.nn.Linear(in_features=6, out_features=30)\n",
    "        self.layer_2 = torch.nn.Linear(in_features=30, out_features=30)\n",
    "        self.layer_3 = torch.nn.Linear(in_features=30, out_features=30)\n",
    "        \n",
    "        self.layer_4 = torch.nn.Linear(in_features=30, out_features=1)\n",
    "        self.relu = torch.nn.ReLU() # <- add in ReLU activation function\n",
    "        # Can also put sigmoid in the model \n",
    "        # This would mean you don't need to use it on the predictions\n",
    "        # self.sigmoid = nn.Sigmoid()\n",
    "\n",
    "    def forward(self, x):\n",
    "      # Intersperse the ReLU activation function between layers\n",
    "       return self.layer_4(self.relu(self.layer_3(self.relu(self.layer_2(self.relu(self.layer_1(x)))))))"
   ]
  },
  {
   "cell_type": "markdown",
   "id": "c7a38b0b-1bd2-4054-9793-93830e84ac0f",
   "metadata": {},
   "source": [
    "# Old Code "
   ]
  },
  {
   "cell_type": "code",
   "execution_count": 25,
   "id": "669d744b-97ae-49bd-ab73-f1de4caed3b9",
   "metadata": {},
   "outputs": [],
   "source": [
    "f = uproot.open(\"trackingNtuple_0.root\")[\"trackingNtuple/tree;3\"]\n",
    "df = f.arrays(library=\"pd\")"
   ]
  },
  {
   "cell_type": "code",
   "execution_count": 26,
   "id": "f9cfd41b-d14b-4b37-8203-155c37f6580b",
   "metadata": {},
   "outputs": [],
   "source": [
    "temp = ak.argmax(df['trk_simTrkIdx'][0], keepdims=True, axis=-1, mask_identity=False)\n",
    "DataFrameIds=[df[\"trk_simTrkIdx\"][0][i][temp[i]][0] if temp[i]!=-1 else temp[i][0].astype(np.int32) for i in range(len(temp))]"
   ]
  },
  {
   "cell_type": "code",
   "execution_count": 27,
   "id": "7a1c055f-023d-4eb4-9953-611442e47366",
   "metadata": {},
   "outputs": [],
   "source": [
    "Check = []\n",
    "for i in range(len(DataFrameIds)):\n",
    "    if ((DataFrameIds[i]>0 and df['sim_pt'][0][DataFrameIds[i]]>0.9 and abs(df['sim_eta'][0][DataFrameIds[i]])<2.4) or DataFrameIds[i]<0):\n",
    "        Check.append(i)\n",
    "DataFrameIds = [DataFrameIds[trk] for trk in Check]"
   ]
  },
  {
   "cell_type": "code",
   "execution_count": 28,
   "id": "243245c0-9b53-49ab-bd69-3a564cb76a7d",
   "metadata": {},
   "outputs": [],
   "source": [
    "d = {'truth':[], 'trk_dxy':[], 'trk_dz':[], 'trk_pt':[], 'trk_eta':[], 'trk_nChi2':[], 'trk_nPixel':[]}\n",
    "DataBase = pd.DataFrame(d)\n",
    "f = {'truth':[1], 'trk_dxy':[1], 'trk_dz':[1], 'trk_pt':[1], 'trk_eta':[1], 'trk_nChi2':[1], 'trk_nPixel':[1]}\n",
    "count=0\n",
    "for ev in range(len(df)):\n",
    "    temp = ak.argmax(df['trk_simTrkIdx'][ev], keepdims=True, axis=-1, mask_identity=False)\n",
    "    DataFrameIds=[df[\"trk_simTrkIdx\"][ev][i][temp[i]][0] if temp[i]!=-1 else temp[i][0].astype(np.int32) for i in range(len(temp))]\n",
    "    #print(DataFrameIds)\n",
    "    #print(len(DataFrameIds))\n",
    "    for i in range(len(DataFrameIds)):\n",
    "        #print(i)\n",
    "        if ((DataFrameIds[i]>0 and df['sim_pt'][ev][DataFrameIds[i]]>0.9 and abs(df['sim_eta'][ev][DataFrameIds[i]])<2.4) or DataFrameIds[i]<0):\n",
    "            f = {'truth':[bool(DataFrameIds[i]+1)], 'trk_dxy':[df[\"trk_dxy\"][ev][i]], 'trk_dz':[df[\"trk_dz\"][ev][i]], 'trk_pt':[df[\"trk_pt\"][ev][i]], 'trk_eta':[df[\"trk_eta\"][ev][i]], 'trk_nChi2':[df[\"trk_nChi2\"][ev][i]], 'trk_nPixel':[df[\"trk_nPixel\"][ev][i]]}\n",
    "            DataBase.loc[count]=f\n",
    "            #print(ev, i, DataFrameIds[i], df[\"trk_dxy\"][ev][i], df[\"trk_dz\"][ev][i], df[\"trk_pt\"][ev][i], df[\"trk_eta\"][ev][i], df[\"trk_nChi2\"][ev][i], df[\"trk_nPixel\"][ev][i])\n",
    "            count+=1"
   ]
  },
  {
   "cell_type": "code",
   "execution_count": 29,
   "id": "b9612f75-c284-4569-9107-9c54d82683c0",
   "metadata": {},
   "outputs": [
    {
     "name": "stdout",
     "output_type": "stream",
     "text": [
      "6828\n"
     ]
    }
   ],
   "source": [
    "print(DataBase.shape[0])"
   ]
  },
  {
   "cell_type": "code",
   "execution_count": 30,
   "id": "f85e89d2-b994-47b1-9419-957b015168b7",
   "metadata": {},
   "outputs": [
    {
     "data": {
      "text/html": [
       "<div>\n",
       "<style scoped>\n",
       "    .dataframe tbody tr th:only-of-type {\n",
       "        vertical-align: middle;\n",
       "    }\n",
       "\n",
       "    .dataframe tbody tr th {\n",
       "        vertical-align: top;\n",
       "    }\n",
       "\n",
       "    .dataframe thead th {\n",
       "        text-align: right;\n",
       "    }\n",
       "</style>\n",
       "<table border=\"1\" class=\"dataframe\">\n",
       "  <thead>\n",
       "    <tr style=\"text-align: right;\">\n",
       "      <th></th>\n",
       "      <th>truth</th>\n",
       "      <th>trk_dxy</th>\n",
       "      <th>trk_dz</th>\n",
       "      <th>trk_pt</th>\n",
       "      <th>trk_eta</th>\n",
       "      <th>trk_nChi2</th>\n",
       "      <th>trk_nPixel</th>\n",
       "    </tr>\n",
       "  </thead>\n",
       "  <tbody>\n",
       "    <tr>\n",
       "      <th>0</th>\n",
       "      <td>True</td>\n",
       "      <td>-0.017795</td>\n",
       "      <td>-1.251105</td>\n",
       "      <td>1.065375</td>\n",
       "      <td>-2.080281</td>\n",
       "      <td>1.618974</td>\n",
       "      <td>7</td>\n",
       "    </tr>\n",
       "    <tr>\n",
       "      <th>1</th>\n",
       "      <td>True</td>\n",
       "      <td>0.007955</td>\n",
       "      <td>5.350815</td>\n",
       "      <td>1.822835</td>\n",
       "      <td>1.22319</td>\n",
       "      <td>1.585989</td>\n",
       "      <td>4</td>\n",
       "    </tr>\n",
       "    <tr>\n",
       "      <th>2</th>\n",
       "      <td>True</td>\n",
       "      <td>0.009331</td>\n",
       "      <td>3.091979</td>\n",
       "      <td>1.252059</td>\n",
       "      <td>-0.557107</td>\n",
       "      <td>0.587102</td>\n",
       "      <td>4</td>\n",
       "    </tr>\n",
       "    <tr>\n",
       "      <th>3</th>\n",
       "      <td>True</td>\n",
       "      <td>0.005675</td>\n",
       "      <td>-0.627211</td>\n",
       "      <td>3.604365</td>\n",
       "      <td>1.137913</td>\n",
       "      <td>0.456585</td>\n",
       "      <td>4</td>\n",
       "    </tr>\n",
       "    <tr>\n",
       "      <th>4</th>\n",
       "      <td>True</td>\n",
       "      <td>-0.002278</td>\n",
       "      <td>1.616609</td>\n",
       "      <td>2.136552</td>\n",
       "      <td>2.072747</td>\n",
       "      <td>0.247012</td>\n",
       "      <td>4</td>\n",
       "    </tr>\n",
       "    <tr>\n",
       "      <th>...</th>\n",
       "      <td>...</td>\n",
       "      <td>...</td>\n",
       "      <td>...</td>\n",
       "      <td>...</td>\n",
       "      <td>...</td>\n",
       "      <td>...</td>\n",
       "      <td>...</td>\n",
       "    </tr>\n",
       "    <tr>\n",
       "      <th>6823</th>\n",
       "      <td>True</td>\n",
       "      <td>0.003032</td>\n",
       "      <td>-2.070742</td>\n",
       "      <td>1.856264</td>\n",
       "      <td>1.68854</td>\n",
       "      <td>0.777518</td>\n",
       "      <td>4</td>\n",
       "    </tr>\n",
       "    <tr>\n",
       "      <th>6824</th>\n",
       "      <td>True</td>\n",
       "      <td>-0.078501</td>\n",
       "      <td>0.286363</td>\n",
       "      <td>3.229348</td>\n",
       "      <td>-0.601506</td>\n",
       "      <td>1.25212</td>\n",
       "      <td>4</td>\n",
       "    </tr>\n",
       "    <tr>\n",
       "      <th>6825</th>\n",
       "      <td>False</td>\n",
       "      <td>0.006244</td>\n",
       "      <td>6.977582</td>\n",
       "      <td>1.034808</td>\n",
       "      <td>-0.787684</td>\n",
       "      <td>16.323128</td>\n",
       "      <td>4</td>\n",
       "    </tr>\n",
       "    <tr>\n",
       "      <th>6826</th>\n",
       "      <td>True</td>\n",
       "      <td>0.005624</td>\n",
       "      <td>-4.347488</td>\n",
       "      <td>1.055188</td>\n",
       "      <td>1.978985</td>\n",
       "      <td>1.097423</td>\n",
       "      <td>6</td>\n",
       "    </tr>\n",
       "    <tr>\n",
       "      <th>6827</th>\n",
       "      <td>True</td>\n",
       "      <td>0.00229</td>\n",
       "      <td>6.175875</td>\n",
       "      <td>1.679004</td>\n",
       "      <td>-0.10098</td>\n",
       "      <td>3.663617</td>\n",
       "      <td>4</td>\n",
       "    </tr>\n",
       "  </tbody>\n",
       "</table>\n",
       "<p>6828 rows × 7 columns</p>\n",
       "</div>"
      ],
      "text/plain": [
       "      truth   trk_dxy    trk_dz    trk_pt   trk_eta  trk_nChi2 trk_nPixel\n",
       "0      True -0.017795 -1.251105  1.065375 -2.080281   1.618974          7\n",
       "1      True  0.007955  5.350815  1.822835   1.22319   1.585989          4\n",
       "2      True  0.009331  3.091979  1.252059 -0.557107   0.587102          4\n",
       "3      True  0.005675 -0.627211  3.604365  1.137913   0.456585          4\n",
       "4      True -0.002278  1.616609  2.136552  2.072747   0.247012          4\n",
       "...     ...       ...       ...       ...       ...        ...        ...\n",
       "6823   True  0.003032 -2.070742  1.856264   1.68854   0.777518          4\n",
       "6824   True -0.078501  0.286363  3.229348 -0.601506    1.25212          4\n",
       "6825  False  0.006244  6.977582  1.034808 -0.787684  16.323128          4\n",
       "6826   True  0.005624 -4.347488  1.055188  1.978985   1.097423          6\n",
       "6827   True   0.00229  6.175875  1.679004  -0.10098   3.663617          4\n",
       "\n",
       "[6828 rows x 7 columns]"
      ]
     },
     "execution_count": 30,
     "metadata": {},
     "output_type": "execute_result"
    }
   ],
   "source": [
    "DataBase1=DataBase.sample(frac=1, ignore_index=True)\n",
    "for el in DataBase1.columns:\n",
    "    for i in range(DataBase1.shape[0]):\n",
    "        DataBase1.loc[i, el]=DataBase1[el][i][0]\n",
    "DataBase1"
   ]
  },
  {
   "cell_type": "code",
   "execution_count": 31,
   "id": "af47a0a9-be28-4d22-b704-1db25838cee3",
   "metadata": {},
   "outputs": [],
   "source": [
    "TrData=DataBase1.loc[:int(0.8*DataBase1.shape[0])]\n",
    "ValData=DataBase1.loc[int(0.8*DataBase1.shape[0]):]"
   ]
  },
  {
   "cell_type": "code",
   "execution_count": 32,
   "id": "605c5efc-472a-4cc5-aa88-0cb71e950a25",
   "metadata": {},
   "outputs": [],
   "source": [
    "visualizer1 = []\n",
    "visualizer2 = []\n",
    "for i in range(len(TrData['truth'])):\n",
    "    if TrData['truth'][i]==True:\n",
    "        visualizer1.append(TrData['trk_nPixel'][i])\n",
    "    else :\n",
    "        visualizer2.append(TrData['trk_nPixel'][i])\n"
   ]
  },
  {
   "cell_type": "code",
   "execution_count": 33,
   "id": "0414ff66-863b-40df-8e8e-fa95d6bb0189",
   "metadata": {},
   "outputs": [
    {
     "data": {
      "image/png": "[encoded data removed]",
      "text/plain": [
       "<Figure size 640x480 with 1 Axes>"
      ]
     },
     "metadata": {},
     "output_type": "display_data"
    }
   ],
   "source": [
    "plt.xlim(-0.2, 9.8)\n",
    "plt.hist(visualizer1, bins=40, color='red', alpha=0.2, density=True, ec=\"k\")\n",
    "plt.hist(visualizer2, bins=40, color='blue', alpha=0.2, density=True, ec=\"k\")\n",
    "plt.show()"
   ]
  },
  {
   "cell_type": "code",
   "execution_count": 34,
   "id": "e529a7d3-bd12-4231-9efe-b3ff01b90770",
   "metadata": {},
   "outputs": [],
   "source": [
    "data = np.zeros((TrData.shape[0], TrData.shape[1]-1))\n",
    "target = np.zeros(TrData.shape[0])\n",
    "for i in range(TrData.shape[0]):\n",
    "    data[i, 0] = TrData['trk_dxy'][i]\n",
    "    data[i, 1] = TrData['trk_dz'][i]\n",
    "    data[i, 2] = TrData['trk_pt'][i]\n",
    "    data[i, 3] = TrData['trk_eta'][i]\n",
    "    data[i, 4] = TrData['trk_nChi2'][i]\n",
    "    data[i, 5] = TrData['trk_nPixel'][i]\n",
    "    target[i]  = TrData['truth'][i]"
   ]
  },
  {
   "cell_type": "code",
   "execution_count": 35,
   "id": "aaea1897-0608-4b8f-8e0a-b27299fe4636",
   "metadata": {},
   "outputs": [],
   "source": [
    "data1 = np.zeros((ValData.shape[0], ValData.shape[1]-1))\n",
    "target1 = np.zeros(ValData.shape[0])\n",
    "for i in range(ValData.shape[0]):\n",
    "    data1[i, 0] = ValData['trk_dxy'][TrData.shape[0]+i-1]\n",
    "    data1[i, 1] = ValData['trk_dz'][TrData.shape[0]+i-1]\n",
    "    data1[i, 2] = ValData['trk_pt'][TrData.shape[0]+i-1]\n",
    "    data1[i, 3] = ValData['trk_eta'][TrData.shape[0]+i-1]\n",
    "    data1[i, 4] = ValData['trk_nChi2'][TrData.shape[0]+i-1]\n",
    "    data1[i, 5] = ValData['trk_nPixel'][TrData.shape[0]+i-1]\n",
    "    target1[i]  = ValData['truth'][TrData.shape[0]+i-1]"
   ]
  },
  {
   "cell_type": "code",
   "execution_count": 36,
   "id": "d3098c46-d95f-4a85-bbea-e01909e7662f",
   "metadata": {},
   "outputs": [],
   "source": [
    "target = torch.from_numpy(target).type(torch.float)\n",
    "data = torch.from_numpy(data).type(torch.float)"
   ]
  },
  {
   "cell_type": "code",
   "execution_count": 37,
   "id": "465ad43b-1f0d-46ab-a021-57f2485ac54a",
   "metadata": {},
   "outputs": [],
   "source": [
    "target1 = torch.from_numpy(target1).type(torch.float)\n",
    "data1 = torch.from_numpy(data1).type(torch.float)"
   ]
  },
  {
   "cell_type": "markdown",
   "id": "b76d574e-8bdb-4956-9fdd-3edf01cf03ea",
   "metadata": {},
   "source": [
    "# New Part"
   ]
  },
  {
   "cell_type": "code",
   "execution_count": 38,
   "id": "5909b116-e55c-4574-a8fa-e35b20a487a8",
   "metadata": {},
   "outputs": [],
   "source": [
    "# Calculate accuracy (a classification metric)\n",
    "def accuracy_fn(y_true, y_pred):\n",
    "    correct = torch.eq(y_true, y_pred).sum().item() # torch.eq() calculates where two tensors are equal\n",
    "    acc = (correct / len(y_pred)) * 100 \n",
    "    return acc"
   ]
  },
  {
   "cell_type": "code",
   "execution_count": 39,
   "id": "2043a83e-2418-49a5-8391-cd3b692a0745",
   "metadata": {},
   "outputs": [
    {
     "data": {
      "text/plain": [
       "'cpu'"
      ]
     },
     "execution_count": 39,
     "metadata": {},
     "output_type": "execute_result"
    }
   ],
   "source": [
    "device = \"cuda\" if torch.cuda.is_available() else \"cpu\"\n",
    "device"
   ]
  },
  {
   "cell_type": "code",
   "execution_count": 40,
   "id": "f7b5d744-d606-4bbe-b33f-6de5aaf71fe2",
   "metadata": {},
   "outputs": [
    {
     "name": "stdout",
     "output_type": "stream",
     "text": [
      "TrackAnalysisModel(\n",
      "  (layer_1): Linear(in_features=6, out_features=30, bias=True)\n",
      "  (layer_2): Linear(in_features=30, out_features=30, bias=True)\n",
      "  (layer_3): Linear(in_features=30, out_features=1, bias=True)\n",
      "  (relu): ReLU()\n",
      ")\n"
     ]
    }
   ],
   "source": [
    "model = TrackAnalysisModel().to(device)\n",
    "print(model)"
   ]
  },
  {
   "cell_type": "code",
   "execution_count": 41,
   "id": "a99a2733-60ea-49f2-8012-cbaf615687e3",
   "metadata": {},
   "outputs": [],
   "source": [
    "# Setup loss and optimizer \n",
    "loss_fn = torch.nn.BCEWithLogitsLoss()\n",
    "optimizer = torch.optim.SGD(model.parameters(), lr=0.1)"
   ]
  },
  {
   "cell_type": "code",
   "execution_count": 42,
   "id": "1aecc267-4680-416f-adb3-95af42a4dee7",
   "metadata": {},
   "outputs": [
    {
     "name": "stdout",
     "output_type": "stream",
     "text": [
      "Epoch: 0 | Loss: 0.70014, Accuracy: 88.98% | Test Loss: 0.67484, Test Accuracy: 88.07%\n",
      "Epoch: 100 | Loss: 0.17676, Accuracy: 93.68% | Test Loss: 0.18648, Test Accuracy: 93.92%\n",
      "Epoch: 200 | Loss: 0.16784, Accuracy: 94.16% | Test Loss: 0.17949, Test Accuracy: 94.51%\n",
      "Epoch: 300 | Loss: 0.16422, Accuracy: 94.31% | Test Loss: 0.17645, Test Accuracy: 94.66%\n",
      "Epoch: 400 | Loss: 0.16103, Accuracy: 94.34% | Test Loss: 0.17340, Test Accuracy: 94.51%\n",
      "Epoch: 500 | Loss: 0.15773, Accuracy: 94.31% | Test Loss: 0.17050, Test Accuracy: 94.51%\n",
      "Epoch: 600 | Loss: 0.15421, Accuracy: 94.36% | Test Loss: 0.16776, Test Accuracy: 94.58%\n",
      "Epoch: 700 | Loss: 0.15072, Accuracy: 94.45% | Test Loss: 0.16514, Test Accuracy: 94.66%\n",
      "Epoch: 800 | Loss: 0.14747, Accuracy: 94.56% | Test Loss: 0.16320, Test Accuracy: 94.58%\n",
      "Epoch: 900 | Loss: 0.14430, Accuracy: 94.67% | Test Loss: 0.16097, Test Accuracy: 94.58%\n",
      "Epoch: 1000 | Loss: 0.14077, Accuracy: 94.71% | Test Loss: 0.15839, Test Accuracy: 94.80%\n",
      "Epoch: 1100 | Loss: 0.13696, Accuracy: 94.93% | Test Loss: 0.15540, Test Accuracy: 94.95%\n",
      "Epoch: 1200 | Loss: 0.13346, Accuracy: 95.22% | Test Loss: 0.15231, Test Accuracy: 94.95%\n",
      "Epoch: 1300 | Loss: 0.13021, Accuracy: 95.30% | Test Loss: 0.14988, Test Accuracy: 94.95%\n",
      "Epoch: 1400 | Loss: 0.12806, Accuracy: 95.28% | Test Loss: 0.14637, Test Accuracy: 95.02%\n",
      "Epoch: 1500 | Loss: 0.12474, Accuracy: 95.50% | Test Loss: 0.14360, Test Accuracy: 95.10%\n",
      "Epoch: 1600 | Loss: 0.12157, Accuracy: 95.66% | Test Loss: 0.14026, Test Accuracy: 95.53%\n",
      "Epoch: 1700 | Loss: 0.11738, Accuracy: 95.66% | Test Loss: 0.13726, Test Accuracy: 95.61%\n",
      "Epoch: 1800 | Loss: 0.11818, Accuracy: 95.77% | Test Loss: 0.13943, Test Accuracy: 95.75%\n",
      "Epoch: 1900 | Loss: 0.11810, Accuracy: 95.84% | Test Loss: 0.13856, Test Accuracy: 95.75%\n"
     ]
    }
   ],
   "source": [
    "# Fit the model\n",
    "torch.manual_seed(42)\n",
    "epochs = 2000\n",
    "\n",
    "# Put all data on target device\n",
    "data, target = data.to(device), target.to(device)\n",
    "data1, target1 = data1.to(device), target1.to(device)\n",
    "\n",
    "for epoch in range(epochs):\n",
    "    # 1. Forward pass\n",
    "    y_logits = model(data).squeeze()\n",
    "    y_pred = torch.round(torch.sigmoid(y_logits)) # logits -> prediction probabilities -> prediction labels\n",
    "    \n",
    "    # 2. Calculate loss and accuracy\n",
    "    loss = loss_fn(y_logits, target) # BCEWithLogitsLoss calculates loss using logits\n",
    "    acc = accuracy_fn(y_true=target, \n",
    "                      y_pred=y_pred)\n",
    "    \n",
    "    # 3. Optimizer zero grad\n",
    "    optimizer.zero_grad()\n",
    "\n",
    "    # 4. Loss backward\n",
    "    loss.backward()\n",
    "\n",
    "    # 5. Optimizer step\n",
    "    optimizer.step()\n",
    "\n",
    "    ### Testing\n",
    "    model.eval()\n",
    "    with torch.inference_mode():\n",
    "      # 1. Forward pass\n",
    "      test_logits = model(data1).squeeze()\n",
    "      test_pred = torch.round(torch.sigmoid(test_logits)) # logits -> prediction probabilities -> prediction labels\n",
    "      # 2. Calculate loss and accuracy\n",
    "      test_loss = loss_fn(test_logits, target1)\n",
    "      test_acc = accuracy_fn(y_true=target1,\n",
    "                             y_pred=test_pred)\n",
    "\n",
    "    # Print out what's happening\n",
    "    if epoch % 100 == 0:\n",
    "        print(f\"Epoch: {epoch} | Loss: {loss:.5f}, Accuracy: {acc:.2f}% | Test Loss: {test_loss:.5f}, Test Accuracy: {test_acc:.2f}%\")"
   ]
  },
  {
   "cell_type": "code",
   "execution_count": 43,
   "id": "db603df3-873d-4942-bd38-646b073d88a3",
   "metadata": {},
   "outputs": [
    {
     "name": "stdout",
     "output_type": "stream",
     "text": [
      "helper_functions.py already exists, skipping download\n"
     ]
    }
   ],
   "source": [
    "import requests\n",
    "from pathlib import Path \n",
    "\n",
    "# Download helper functions from Learn PyTorch repo (if not already downloaded)\n",
    "if Path(\"helper_functions.py\").is_file():\n",
    "  print(\"helper_functions.py already exists, skipping download\")\n",
    "else:\n",
    "  print(\"Downloading helper_functions.py\")\n",
    "  request = requests.get(\"https://raw.githubusercontent.com/mrdbourke/pytorch-deep-learning/main/helper_functions.py\")\n",
    "  with open(\"helper_functions.py\", \"wb\") as f:\n",
    "    f.write(request.content)\n",
    "\n",
    "from helper_functions import plot_predictions, plot_decision_boundary"
   ]
  },
  {
   "cell_type": "code",
   "execution_count": 50,
   "id": "f2f243f2-a412-4e66-a758-a79fce2e19b8",
   "metadata": {},
   "outputs": [],
   "source": [
    "PredVal = torch.round(torch.sigmoid(model(data1).squeeze()))\n",
    "PredVal = PredVal.detach().numpy()\n",
    "fpr, tpr, thr= sk.metrics.roc_curve(target1, PredVal, drop_intermediate=False)"
   ]
  },
  {
   "cell_type": "code",
   "execution_count": 51,
   "id": "0142de00-d10b-4e09-a730-e6ff43a14f26",
   "metadata": {},
   "outputs": [
    {
     "data": {
      "image/png": "[encoded data removed]",
      "text/plain": [
       "<Figure size 640x480 with 1 Axes>"
      ]
     },
     "metadata": {},
     "output_type": "display_data"
    }
   ],
   "source": [
    "plt.plot(fpr, tpr)\n",
    "plt.show()"
   ]
  },
  {
   "cell_type": "code",
   "execution_count": 74,
   "id": "2526df14-16d5-4ebd-8e0b-d2d1f7bd53ca",
   "metadata": {},
   "outputs": [],
   "source": [
    "ROCdata = np.column_stack([fpr, tpr])\n",
    "np.savetxt(\"ROC_NN3x30.dat\" , ROCdata)"
   ]
  },
  {
   "cell_type": "code",
   "execution_count": null,
   "id": "bc6a01dc-732c-4b51-9757-f15367e35213",
   "metadata": {},
   "outputs": [],
   "source": []
  },
  {
   "cell_type": "code",
   "execution_count": null,
   "id": "25a2628d-b2f0-42b7-8524-b3f7cf369e41",
   "metadata": {},
   "outputs": [],
   "source": []
  }
 ],
 "metadata": {
  "kernelspec": {
   "display_name": "Python 3 (ipykernel)",
   "language": "python",
   "name": "python3"
  },
  "language_info": {
   "codemirror_mode": {
    "name": "ipython",
    "version": 3
   },
   "file_extension": ".py",
   "mimetype": "text/x-python",
   "name": "python",
   "nbconvert_exporter": "python",
   "pygments_lexer": "ipython3",
   "version": "3.11.9"
  }
 },
 "nbformat": 4,
 "nbformat_minor": 5
}
